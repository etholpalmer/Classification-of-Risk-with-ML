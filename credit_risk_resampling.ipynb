{
 "cells": [
  {
   "cell_type": "markdown",
   "source": [
    "# Credit Risk Resampling Techniques"
   ],
   "metadata": {}
  },
  {
   "cell_type": "code",
   "execution_count": 1,
   "source": [
    "import warnings\r\n",
    "warnings.filterwarnings('ignore')"
   ],
   "outputs": [],
   "metadata": {}
  },
  {
   "cell_type": "code",
   "execution_count": 2,
   "source": [
    "import numpy as np\r\n",
    "import pandas as pd\r\n",
    "from pathlib import Path\r\n",
    "from collections import Counter"
   ],
   "outputs": [],
   "metadata": {}
  },
  {
   "cell_type": "markdown",
   "source": [
    "# Read the CSV into DataFrame"
   ],
   "metadata": {}
  },
  {
   "cell_type": "code",
   "execution_count": 3,
   "source": [
    "# Load the data\r\n",
    "file_path = Path('./Resources/lending_data.csv')\r\n",
    "df = pd.read_csv(file_path)\r\n",
    "df.head()"
   ],
   "outputs": [
    {
     "output_type": "execute_result",
     "data": {
      "text/plain": [
       "   loan_size  interest_rate homeowner  borrower_income  debt_to_income  \\\n",
       "0    10700.0          7.672       own            52800        0.431818   \n",
       "1     8400.0          6.692       own            43600        0.311927   \n",
       "2     9000.0          6.963      rent            46100        0.349241   \n",
       "3    10700.0          7.664       own            52700        0.430740   \n",
       "4    10800.0          7.698  mortgage            53000        0.433962   \n",
       "\n",
       "   num_of_accounts  derogatory_marks  total_debt loan_status  \n",
       "0                5                 1       22800    low_risk  \n",
       "1                3                 0       13600    low_risk  \n",
       "2                3                 0       16100    low_risk  \n",
       "3                5                 1       22700    low_risk  \n",
       "4                5                 1       23000    low_risk  "
      ],
      "text/html": [
       "<div>\n",
       "<style scoped>\n",
       "    .dataframe tbody tr th:only-of-type {\n",
       "        vertical-align: middle;\n",
       "    }\n",
       "\n",
       "    .dataframe tbody tr th {\n",
       "        vertical-align: top;\n",
       "    }\n",
       "\n",
       "    .dataframe thead th {\n",
       "        text-align: right;\n",
       "    }\n",
       "</style>\n",
       "<table border=\"1\" class=\"dataframe\">\n",
       "  <thead>\n",
       "    <tr style=\"text-align: right;\">\n",
       "      <th></th>\n",
       "      <th>loan_size</th>\n",
       "      <th>interest_rate</th>\n",
       "      <th>homeowner</th>\n",
       "      <th>borrower_income</th>\n",
       "      <th>debt_to_income</th>\n",
       "      <th>num_of_accounts</th>\n",
       "      <th>derogatory_marks</th>\n",
       "      <th>total_debt</th>\n",
       "      <th>loan_status</th>\n",
       "    </tr>\n",
       "  </thead>\n",
       "  <tbody>\n",
       "    <tr>\n",
       "      <th>0</th>\n",
       "      <td>10700.0</td>\n",
       "      <td>7.672</td>\n",
       "      <td>own</td>\n",
       "      <td>52800</td>\n",
       "      <td>0.431818</td>\n",
       "      <td>5</td>\n",
       "      <td>1</td>\n",
       "      <td>22800</td>\n",
       "      <td>low_risk</td>\n",
       "    </tr>\n",
       "    <tr>\n",
       "      <th>1</th>\n",
       "      <td>8400.0</td>\n",
       "      <td>6.692</td>\n",
       "      <td>own</td>\n",
       "      <td>43600</td>\n",
       "      <td>0.311927</td>\n",
       "      <td>3</td>\n",
       "      <td>0</td>\n",
       "      <td>13600</td>\n",
       "      <td>low_risk</td>\n",
       "    </tr>\n",
       "    <tr>\n",
       "      <th>2</th>\n",
       "      <td>9000.0</td>\n",
       "      <td>6.963</td>\n",
       "      <td>rent</td>\n",
       "      <td>46100</td>\n",
       "      <td>0.349241</td>\n",
       "      <td>3</td>\n",
       "      <td>0</td>\n",
       "      <td>16100</td>\n",
       "      <td>low_risk</td>\n",
       "    </tr>\n",
       "    <tr>\n",
       "      <th>3</th>\n",
       "      <td>10700.0</td>\n",
       "      <td>7.664</td>\n",
       "      <td>own</td>\n",
       "      <td>52700</td>\n",
       "      <td>0.430740</td>\n",
       "      <td>5</td>\n",
       "      <td>1</td>\n",
       "      <td>22700</td>\n",
       "      <td>low_risk</td>\n",
       "    </tr>\n",
       "    <tr>\n",
       "      <th>4</th>\n",
       "      <td>10800.0</td>\n",
       "      <td>7.698</td>\n",
       "      <td>mortgage</td>\n",
       "      <td>53000</td>\n",
       "      <td>0.433962</td>\n",
       "      <td>5</td>\n",
       "      <td>1</td>\n",
       "      <td>23000</td>\n",
       "      <td>low_risk</td>\n",
       "    </tr>\n",
       "  </tbody>\n",
       "</table>\n",
       "</div>"
      ]
     },
     "metadata": {},
     "execution_count": 3
    }
   ],
   "metadata": {}
  },
  {
   "cell_type": "markdown",
   "source": [
    "# Split the Data into Training and Testing"
   ],
   "metadata": {}
  },
  {
   "cell_type": "code",
   "execution_count": 4,
   "source": [
    "# Create our features\r\n",
    "X = df.drop(columns=\"loan_status\")\r\n",
    "\r\n",
    "# Create our target\r\n",
    "y = df.loan_status"
   ],
   "outputs": [],
   "metadata": {}
  },
  {
   "cell_type": "code",
   "execution_count": 5,
   "source": [
    "X.describe()"
   ],
   "outputs": [
    {
     "output_type": "execute_result",
     "data": {
      "text/plain": [
       "          loan_size  interest_rate  borrower_income  debt_to_income  \\\n",
       "count  77536.000000   77536.000000     77536.000000    77536.000000   \n",
       "mean    9805.562577       7.292333     49221.949804        0.377318   \n",
       "std     2093.223153       0.889495      8371.635077        0.081519   \n",
       "min     5000.000000       5.250000     30000.000000        0.000000   \n",
       "25%     8700.000000       6.825000     44800.000000        0.330357   \n",
       "50%     9500.000000       7.172000     48100.000000        0.376299   \n",
       "75%    10400.000000       7.528000     51400.000000        0.416342   \n",
       "max    23800.000000      13.235000    105200.000000        0.714829   \n",
       "\n",
       "       num_of_accounts  derogatory_marks    total_debt  \n",
       "count     77536.000000      77536.000000  77536.000000  \n",
       "mean          3.826610          0.392308  19221.949804  \n",
       "std           1.904426          0.582086   8371.635077  \n",
       "min           0.000000          0.000000      0.000000  \n",
       "25%           3.000000          0.000000  14800.000000  \n",
       "50%           4.000000          0.000000  18100.000000  \n",
       "75%           4.000000          1.000000  21400.000000  \n",
       "max          16.000000          3.000000  75200.000000  "
      ],
      "text/html": [
       "<div>\n",
       "<style scoped>\n",
       "    .dataframe tbody tr th:only-of-type {\n",
       "        vertical-align: middle;\n",
       "    }\n",
       "\n",
       "    .dataframe tbody tr th {\n",
       "        vertical-align: top;\n",
       "    }\n",
       "\n",
       "    .dataframe thead th {\n",
       "        text-align: right;\n",
       "    }\n",
       "</style>\n",
       "<table border=\"1\" class=\"dataframe\">\n",
       "  <thead>\n",
       "    <tr style=\"text-align: right;\">\n",
       "      <th></th>\n",
       "      <th>loan_size</th>\n",
       "      <th>interest_rate</th>\n",
       "      <th>borrower_income</th>\n",
       "      <th>debt_to_income</th>\n",
       "      <th>num_of_accounts</th>\n",
       "      <th>derogatory_marks</th>\n",
       "      <th>total_debt</th>\n",
       "    </tr>\n",
       "  </thead>\n",
       "  <tbody>\n",
       "    <tr>\n",
       "      <th>count</th>\n",
       "      <td>77536.000000</td>\n",
       "      <td>77536.000000</td>\n",
       "      <td>77536.000000</td>\n",
       "      <td>77536.000000</td>\n",
       "      <td>77536.000000</td>\n",
       "      <td>77536.000000</td>\n",
       "      <td>77536.000000</td>\n",
       "    </tr>\n",
       "    <tr>\n",
       "      <th>mean</th>\n",
       "      <td>9805.562577</td>\n",
       "      <td>7.292333</td>\n",
       "      <td>49221.949804</td>\n",
       "      <td>0.377318</td>\n",
       "      <td>3.826610</td>\n",
       "      <td>0.392308</td>\n",
       "      <td>19221.949804</td>\n",
       "    </tr>\n",
       "    <tr>\n",
       "      <th>std</th>\n",
       "      <td>2093.223153</td>\n",
       "      <td>0.889495</td>\n",
       "      <td>8371.635077</td>\n",
       "      <td>0.081519</td>\n",
       "      <td>1.904426</td>\n",
       "      <td>0.582086</td>\n",
       "      <td>8371.635077</td>\n",
       "    </tr>\n",
       "    <tr>\n",
       "      <th>min</th>\n",
       "      <td>5000.000000</td>\n",
       "      <td>5.250000</td>\n",
       "      <td>30000.000000</td>\n",
       "      <td>0.000000</td>\n",
       "      <td>0.000000</td>\n",
       "      <td>0.000000</td>\n",
       "      <td>0.000000</td>\n",
       "    </tr>\n",
       "    <tr>\n",
       "      <th>25%</th>\n",
       "      <td>8700.000000</td>\n",
       "      <td>6.825000</td>\n",
       "      <td>44800.000000</td>\n",
       "      <td>0.330357</td>\n",
       "      <td>3.000000</td>\n",
       "      <td>0.000000</td>\n",
       "      <td>14800.000000</td>\n",
       "    </tr>\n",
       "    <tr>\n",
       "      <th>50%</th>\n",
       "      <td>9500.000000</td>\n",
       "      <td>7.172000</td>\n",
       "      <td>48100.000000</td>\n",
       "      <td>0.376299</td>\n",
       "      <td>4.000000</td>\n",
       "      <td>0.000000</td>\n",
       "      <td>18100.000000</td>\n",
       "    </tr>\n",
       "    <tr>\n",
       "      <th>75%</th>\n",
       "      <td>10400.000000</td>\n",
       "      <td>7.528000</td>\n",
       "      <td>51400.000000</td>\n",
       "      <td>0.416342</td>\n",
       "      <td>4.000000</td>\n",
       "      <td>1.000000</td>\n",
       "      <td>21400.000000</td>\n",
       "    </tr>\n",
       "    <tr>\n",
       "      <th>max</th>\n",
       "      <td>23800.000000</td>\n",
       "      <td>13.235000</td>\n",
       "      <td>105200.000000</td>\n",
       "      <td>0.714829</td>\n",
       "      <td>16.000000</td>\n",
       "      <td>3.000000</td>\n",
       "      <td>75200.000000</td>\n",
       "    </tr>\n",
       "  </tbody>\n",
       "</table>\n",
       "</div>"
      ]
     },
     "metadata": {},
     "execution_count": 5
    }
   ],
   "metadata": {}
  },
  {
   "cell_type": "code",
   "execution_count": 7,
   "source": [
    "# Check the balance of our target values\r\n",
    "y.value_counts()"
   ],
   "outputs": [
    {
     "output_type": "execute_result",
     "data": {
      "text/plain": [
       "low_risk     75036\n",
       "high_risk     2500\n",
       "Name: loan_status, dtype: int64"
      ]
     },
     "metadata": {},
     "execution_count": 7
    }
   ],
   "metadata": {}
  },
  {
   "cell_type": "code",
   "execution_count": 15,
   "source": [
    "# Create X_train, X_test, y_train, y_test\r\n",
    "from sklearn.model_selection import train_test_split\r\n",
    "\r\n",
    "X_train, X_test, y_train, y_test = train_test_split(\r\n",
    "    X,y\r\n",
    "    , random_state=1\r\n",
    "    , stratify=y\r\n",
    ")"
   ],
   "outputs": [],
   "metadata": {}
  },
  {
   "cell_type": "markdown",
   "source": [
    "## Data Pre-Processing\n",
    "\n",
    "Scale the training and testing data using the `StandardScaler` from `sklearn`. Remember that when scaling the data, you only scale the features data (`X_train` and `X_testing`)."
   ],
   "metadata": {}
  },
  {
   "cell_type": "code",
   "execution_count": 16,
   "source": [
    "# Create the StandardScaler instance\r\n",
    "from sklearn.preprocessing import StandardScaler\r\n",
    "scaler_std = StandardScaler()"
   ],
   "outputs": [],
   "metadata": {}
  },
  {
   "cell_type": "code",
   "execution_count": 25,
   "source": [
    "def Combine_Names_for_CF_Matrix(names=None, y_pred=None):\r\n",
    "    if names is not None:\r\n",
    "        lst = names\r\n",
    "    elif y_pred is not None:\r\n",
    "        lst = sorted(set(y_pred))\r\n",
    "\r\n",
    "    idx = [f\"Actual {x}\" for x in lst]\r\n",
    "    col = [f\"Prediction {x}\" for x in lst]\r\n",
    "\r\n",
    "    return idx,col\r\n",
    "\r\n",
    "def Generate_Confusion_Matrix(y_test, y_pred, names=None):\r\n",
    "    from sklearn.metrics import confusion_matrix\r\n",
    "\r\n",
    "    idx,col = Combine_Names_for_CF_Matrix(names=names, y_pred=y_pred)\r\n",
    "\r\n",
    "    cm_df = pd.DataFrame(\r\n",
    "        data=confusion_matrix(y_test, y_pred)\r\n",
    "        , index= idx\r\n",
    "        , columns= col\r\n",
    "    )\r\n",
    "    cm_df['Total Predictions'] = cm_df.sum(axis='columns')\r\n",
    "    cm_df.loc[\"Total Actuals\"] = cm_df.sum(axis='index')\r\n",
    "\r\n",
    "    return cm_df\r\n",
    "def Calc_Conf_Matrix(cm_df:pd.DataFrame):\r\n",
    "    true_negative  = cm_df.iloc[0,0]\r\n",
    "    false_positive = cm_df.iloc[0,1]\r\n",
    "    false_negative = cm_df.iloc[1,0]\r\n",
    "    true_positive  = cm_df.iloc[1,1]\r\n",
    "    total_predictions  = cm_df.loc['Total Actuals','Total Predictions']\r\n",
    "    total_predict_yes  = cm_df.iloc[2,1]\r\n",
    "    total_predict_no     = cm_df.iloc[2,0]\r\n",
    "    \r\n",
    "    total_actuals_positive = cm_df.iloc[1,2]\r\n",
    "    total_actuals_negaitive = cm_df.iloc[0,2]\r\n",
    "\r\n",
    "    accuracy                =  (true_positive  + true_negative ) /total_predictions\r\n",
    "    misclassification_rate  =  (false_positive + false_negative) /total_predictions  # Error Rate\r\n",
    "    sensitivity_rate        =  true_positive / total_actuals_positive                # True Positive Rate or Recall\r\n",
    "    false_positive_rate     =  false_positive / total_actuals_negaitive\r\n",
    "    true_negative_rate      =  true_negative  / total_actuals_negaitive              # Specificity\r\n",
    "    precision               =  true_positive /  total_actuals_positive\r\n",
    "\r\n",
    "    return {'accuracy':accuracy\r\n",
    "            ,'misclassification_rate':misclassification_rate\r\n",
    "            ,'sensitivity_rate':sensitivity_rate\r\n",
    "            ,'false_positive_rate':false_positive_rate\r\n",
    "            ,'true_negative_rate':true_negative_rate\r\n",
    "            ,'precision':precision}\r\n",
    "\r\n",
    "def Describe_Confusion_Matrix(cm_df:pd.DataFrame):\r\n",
    "    results = Calc_Conf_Matrix(cm_df=cm_df)\r\n",
    "    display(cm_df)\r\n",
    "\r\n",
    "    print(f\"Overall, how often is the classifier correct (Accuracy): {results['accuracy']:.3%}\")\r\n",
    "    print(f\"Overall, how often is it wrong (Misclassification Rate or Error Rate): {results['misclassification_rate']:.3%}\")\r\n",
    "    print(f\"When it's actually yes, how often does it predict yes? (True Positive Rate or Sensitivity or Recall): {results['sensitivity_rate']:.3%}\")\r\n",
    "    print(f\"When it's actually no, how often does it predict no (False Posive Rate): {results['true_negative_rate']:.3%}\")\r\n",
    "    print(f\"When it predicts yes, how often is it correct? (Precision):{results['precision']:.3%}\")\r\n",
    "    print(f\"When it's actually no, how often does it predict no? (False Positive Rate): {results['false_positive_rate']:.3%}\")\r\n",
    "    "
   ],
   "outputs": [],
   "metadata": {}
  },
  {
   "cell_type": "code",
   "execution_count": 17,
   "source": [
    "from sklearn.preprocessing import LabelEncoder\r\n",
    "le = LabelEncoder()\r\n",
    "\r\n",
    "def Categorize_Txt_Cols(df,col_name):\r\n",
    "    \"\"\"Categorizes the columns with numbers\"\"\"\r\n",
    "    le.fit(df[col_name])\r\n",
    "    return le.transform(df[col_name])\r\n",
    "\r\n",
    "def Get_Columns_With_Text(df):\r\n",
    "    \"\"\"Get's alist of text columns from a DataFrame\"\"\"\r\n",
    "    list_of_columns = list(zip(list(df.keys()), df.dtypes.to_list()))\r\n",
    "    return [col[0] for col in list_of_columns if col[1]==np.dtype('O')]\r\n",
    "\r\n",
    "def Convert_Text_Cols(df):\r\n",
    "    \"\"\"Determines which columns are Text\"\"\"\r\n",
    "    list_of_text_columns = Get_Columns_With_Text(df)\r\n",
    "    \r\n",
    "    for col in list_of_text_columns:\r\n",
    "        df[col] = Categorize_Txt_Cols(df,col_name=col)\r\n",
    "    \r\n",
    "    return df\r\n",
    "\r\n",
    "X_train = Convert_Text_Cols(X_train)\r\n",
    "X_test  = Convert_Text_Cols(X_test)"
   ],
   "outputs": [],
   "metadata": {}
  },
  {
   "cell_type": "code",
   "execution_count": 19,
   "source": [
    "# Fit the Standard Scaler with the training data\r\n",
    "# When fitting scaling functions, only train on the training dataset\r\n",
    "X_scaler_std = scaler_std.fit(X_train)"
   ],
   "outputs": [],
   "metadata": {}
  },
  {
   "cell_type": "code",
   "execution_count": 20,
   "source": [
    "# Scale the training and testing data\r\n",
    "X_train_scaled_std = X_scaler_std.transform(X_train)\r\n",
    "X_test_scaled_std  = X_scaler_std.transform(X_test)"
   ],
   "outputs": [],
   "metadata": {}
  },
  {
   "cell_type": "markdown",
   "source": [
    "# Simple Logistic Regression"
   ],
   "metadata": {}
  },
  {
   "cell_type": "code",
   "execution_count": 21,
   "source": [
    "from sklearn.linear_model import LogisticRegression\r\n",
    "model = LogisticRegression(solver='lbfgs', random_state=1)\r\n",
    "model.fit(X_train, y_train)"
   ],
   "outputs": [
    {
     "output_type": "execute_result",
     "data": {
      "text/plain": [
       "LogisticRegression(random_state=1)"
      ]
     },
     "metadata": {},
     "execution_count": 21
    }
   ],
   "metadata": {}
  },
  {
   "cell_type": "code",
   "execution_count": 23,
   "source": [
    "# Calculated the balanced accuracy score\r\n",
    "from sklearn.metrics import balanced_accuracy_score\r\n",
    "y_pred = model.predict(X_test)\r\n",
    "print(f\"The Balanced Accuracy Score for Simple Logic Regression: {balanced_accuracy_score(y_test, y_pred):.4%}\")"
   ],
   "outputs": [
    {
     "output_type": "stream",
     "name": "stdout",
     "text": [
      "The Balanced Accuracy Score for Simple Logic Regression: 95.4321%\n"
     ]
    }
   ],
   "metadata": {}
  },
  {
   "cell_type": "code",
   "execution_count": 26,
   "source": [
    "# Display the confusion matrix\r\n",
    "from sklearn.metrics import confusion_matrix\r\n",
    "#confusion_matrix(y_test, y_pred)\r\n",
    "cm_df = Generate_Confusion_Matrix(y_test, y_pred)\r\n",
    "Describe_Confusion_Matrix(cm_df)"
   ],
   "outputs": [
    {
     "output_type": "display_data",
     "data": {
      "text/plain": [
       "                  Prediction high_risk  Prediction low_risk  Total Predictions\n",
       "Actual high_risk                   571                   54                625\n",
       "Actual low_risk                     93                18666              18759\n",
       "Total Actuals                      664                18720              19384"
      ],
      "text/html": [
       "<div>\n",
       "<style scoped>\n",
       "    .dataframe tbody tr th:only-of-type {\n",
       "        vertical-align: middle;\n",
       "    }\n",
       "\n",
       "    .dataframe tbody tr th {\n",
       "        vertical-align: top;\n",
       "    }\n",
       "\n",
       "    .dataframe thead th {\n",
       "        text-align: right;\n",
       "    }\n",
       "</style>\n",
       "<table border=\"1\" class=\"dataframe\">\n",
       "  <thead>\n",
       "    <tr style=\"text-align: right;\">\n",
       "      <th></th>\n",
       "      <th>Prediction high_risk</th>\n",
       "      <th>Prediction low_risk</th>\n",
       "      <th>Total Predictions</th>\n",
       "    </tr>\n",
       "  </thead>\n",
       "  <tbody>\n",
       "    <tr>\n",
       "      <th>Actual high_risk</th>\n",
       "      <td>571</td>\n",
       "      <td>54</td>\n",
       "      <td>625</td>\n",
       "    </tr>\n",
       "    <tr>\n",
       "      <th>Actual low_risk</th>\n",
       "      <td>93</td>\n",
       "      <td>18666</td>\n",
       "      <td>18759</td>\n",
       "    </tr>\n",
       "    <tr>\n",
       "      <th>Total Actuals</th>\n",
       "      <td>664</td>\n",
       "      <td>18720</td>\n",
       "      <td>19384</td>\n",
       "    </tr>\n",
       "  </tbody>\n",
       "</table>\n",
       "</div>"
      ]
     },
     "metadata": {}
    },
    {
     "output_type": "stream",
     "name": "stdout",
     "text": [
      "Overall, how often is the classifier correct (Accuracy): 99.242%\n",
      "Overall, how often is it wrong (Misclassification Rate or Error Rate): 0.758%\n",
      "When it's actually yes, how often does it predict yes? (True Positive Rate or Sensitivity or Recall): 99.504%\n",
      "When it's actually no, how often does it predict no (False Posive Rate): 91.360%\n",
      "When it predicts yes, how often is it correct? (Precision):99.504%\n",
      "When it's actually no, how often does it predict no? (False Positive Rate): 8.640%\n"
     ]
    }
   ],
   "metadata": {}
  },
  {
   "cell_type": "code",
   "execution_count": 69,
   "source": [
    "# Print the imbalanced classification report\r\n",
    "from imblearn.metrics import classification_report_imbalanced\r\n",
    "print(classification_report_imbalanced(y_test, y_pred,digits=4))"
   ],
   "outputs": [
    {
     "output_type": "stream",
     "name": "stdout",
     "text": [
      "                   pre       rec       spe        f1       geo       iba       sup\n",
      "\n",
      "  high_risk     0.8599    0.9136    0.9950    0.8860    0.9535    0.9017       625\n",
      "   low_risk     0.9971    0.9950    0.9136    0.9961    0.9535    0.9165     18759\n",
      "\n",
      "avg / total     0.9927    0.9924    0.9162    0.9925    0.9535    0.9160     19384\n",
      "\n"
     ]
    }
   ],
   "metadata": {}
  },
  {
   "cell_type": "markdown",
   "source": [
    "# Oversampling\r\n",
    "\r\n",
    "In this section, you will compare two oversampling algorithms to determine which algorithm results in the best performance. You will oversample the data using the naive random oversampling algorithm and the SMOTE algorithm. For each algorithm, be sure to complete the folliowing steps:\r\n",
    "\r\n",
    "1. View the count of the target classes using `Counter` from the collections library. \r\n",
    "3. Use the resampled data to train a logistic regression model.\r\n",
    "3. Calculate the balanced accuracy score from sklearn.metrics.\r\n",
    "4. Print the confusion matrix from sklearn.metrics.\r\n",
    "5. Generate a classication report using the `imbalanced_classification_report` from imbalanced-learn.\r\n",
    "\r\n",
    "Note: Use a random state of 1 for each sampling algorithm to ensure consistency between tests"
   ],
   "metadata": {}
  },
  {
   "cell_type": "markdown",
   "source": [
    "### Naive Random Oversampling"
   ],
   "metadata": {}
  },
  {
   "cell_type": "code",
   "execution_count": 32,
   "source": [
    "# Resample the training data with the RandomOversampler\r\n",
    "from imblearn.over_sampling import RandomOverSampler\r\n",
    "\r\n",
    "ros = RandomOverSampler(random_state=1)\r\n",
    "X_samp, y_samp = ros.fit_resample(X_train, y_train)\r\n",
    "\r\n",
    "# View the count of target classes with Counter\r\n",
    "Counter(y_train), Counter(y_samp)"
   ],
   "outputs": [
    {
     "output_type": "execute_result",
     "data": {
      "text/plain": [
       "(Counter({'low_risk': 56277, 'high_risk': 1875}),\n",
       " Counter({'low_risk': 56277, 'high_risk': 56277}))"
      ]
     },
     "metadata": {},
     "execution_count": 32
    }
   ],
   "metadata": {}
  },
  {
   "cell_type": "code",
   "execution_count": 36,
   "source": [
    "# Train the Logistic Regression model using the resampled data\r\n",
    "from sklearn.linear_model import LogisticRegression\r\n",
    "\r\n",
    "mdl = LogisticRegression(solver='lbfgs', random_state=1)\r\n",
    "mdl.fit(X_samp, y_samp)\r\n",
    "y_pred_samp = mdl.predict(X_test)"
   ],
   "outputs": [],
   "metadata": {}
  },
  {
   "cell_type": "code",
   "execution_count": 37,
   "source": [
    "# Calculated the balanced accuracy score\r\n",
    "from sklearn.metrics import balanced_accuracy_score\r\n",
    "\r\n",
    "print(f\"Balanced accuracy score is: {balanced_accuracy_score(y_test, y_pred_samp):.4%}\")"
   ],
   "outputs": [
    {
     "output_type": "stream",
     "name": "stdout",
     "text": [
      "Balanced accuracy score is: 99.4801%\n"
     ]
    }
   ],
   "metadata": {}
  },
  {
   "cell_type": "code",
   "execution_count": 38,
   "source": [
    "# Display the confusion matrix\r\n",
    "cm_df_samp = Generate_Confusion_Matrix(y_test, y_pred_samp)\r\n",
    "Describe_Confusion_Matrix(cm_df_samp)"
   ],
   "outputs": [
    {
     "output_type": "display_data",
     "data": {
      "text/plain": [
       "                  Prediction high_risk  Prediction low_risk  Total Predictions\n",
       "Actual high_risk                   622                    3                625\n",
       "Actual low_risk                    105                18654              18759\n",
       "Total Actuals                      727                18657              19384"
      ],
      "text/html": [
       "<div>\n",
       "<style scoped>\n",
       "    .dataframe tbody tr th:only-of-type {\n",
       "        vertical-align: middle;\n",
       "    }\n",
       "\n",
       "    .dataframe tbody tr th {\n",
       "        vertical-align: top;\n",
       "    }\n",
       "\n",
       "    .dataframe thead th {\n",
       "        text-align: right;\n",
       "    }\n",
       "</style>\n",
       "<table border=\"1\" class=\"dataframe\">\n",
       "  <thead>\n",
       "    <tr style=\"text-align: right;\">\n",
       "      <th></th>\n",
       "      <th>Prediction high_risk</th>\n",
       "      <th>Prediction low_risk</th>\n",
       "      <th>Total Predictions</th>\n",
       "    </tr>\n",
       "  </thead>\n",
       "  <tbody>\n",
       "    <tr>\n",
       "      <th>Actual high_risk</th>\n",
       "      <td>622</td>\n",
       "      <td>3</td>\n",
       "      <td>625</td>\n",
       "    </tr>\n",
       "    <tr>\n",
       "      <th>Actual low_risk</th>\n",
       "      <td>105</td>\n",
       "      <td>18654</td>\n",
       "      <td>18759</td>\n",
       "    </tr>\n",
       "    <tr>\n",
       "      <th>Total Actuals</th>\n",
       "      <td>727</td>\n",
       "      <td>18657</td>\n",
       "      <td>19384</td>\n",
       "    </tr>\n",
       "  </tbody>\n",
       "</table>\n",
       "</div>"
      ]
     },
     "metadata": {}
    },
    {
     "output_type": "stream",
     "name": "stdout",
     "text": [
      "Overall, how often is the classifier correct (Accuracy): 99.443%\n",
      "Overall, how often is it wrong (Misclassification Rate or Error Rate): 0.557%\n",
      "When it's actually yes, how often does it predict yes? (True Positive Rate or Sensitivity or Recall): 99.440%\n",
      "When it's actually no, how often does it predict no (False Posive Rate): 99.520%\n",
      "When it predicts yes, how often is it correct? (Precision):99.440%\n",
      "When it's actually no, how often does it predict no? (False Positive Rate): 0.480%\n"
     ]
    }
   ],
   "metadata": {}
  },
  {
   "cell_type": "code",
   "execution_count": 68,
   "source": [
    "# Print the imbalanced classification report\r\n",
    "print(classification_report_imbalanced(y_test, y_pred_samp,digits=4))"
   ],
   "outputs": [
    {
     "output_type": "stream",
     "name": "stdout",
     "text": [
      "                   pre       rec       spe        f1       geo       iba       sup\n",
      "\n",
      "  high_risk     0.8556    0.9952    0.9944    0.9201    0.9948    0.9897       625\n",
      "   low_risk     0.9998    0.9944    0.9952    0.9971    0.9948    0.9896     18759\n",
      "\n",
      "avg / total     0.9952    0.9944    0.9952    0.9946    0.9948    0.9896     19384\n",
      "\n"
     ]
    }
   ],
   "metadata": {}
  },
  {
   "cell_type": "markdown",
   "source": [
    "### SMOTE Oversampling"
   ],
   "metadata": {}
  },
  {
   "cell_type": "code",
   "execution_count": 40,
   "source": [
    "# Resample the training data with SMOTE\r\n",
    "from imblearn.over_sampling import SMOTE\r\n",
    "\r\n",
    "X_smote, y_smote = SMOTE(random_state=1,sampling_strategy=1.0).fit_resample(X_train, y_train)\r\n",
    "\r\n",
    "# View the count of target classes with Counter\r\n",
    "Counter(y_smote)"
   ],
   "outputs": [
    {
     "output_type": "execute_result",
     "data": {
      "text/plain": [
       "Counter({'low_risk': 56277, 'high_risk': 56277})"
      ]
     },
     "metadata": {},
     "execution_count": 40
    }
   ],
   "metadata": {}
  },
  {
   "cell_type": "code",
   "execution_count": 44,
   "source": [
    "# Train the Logistic Regression model using the resampled data\r\n",
    "mdl_smote = LogisticRegression(solver='lbfgs', random_state=1)\r\n",
    "mdl_smote.fit(X_smote, y_smote)"
   ],
   "outputs": [
    {
     "output_type": "execute_result",
     "data": {
      "text/plain": [
       "LogisticRegression(random_state=1)"
      ]
     },
     "metadata": {},
     "execution_count": 44
    }
   ],
   "metadata": {}
  },
  {
   "cell_type": "code",
   "execution_count": 46,
   "source": [
    "# Calculated the balanced accuracy score\r\n",
    "y_pred_smote = mdl_smote.predict(X_test)\r\n",
    "print(f\"The balance accuracy score for SMOTE is: {balanced_accuracy_score(y_test, y_pred_smote):.4%}\")"
   ],
   "outputs": [
    {
     "output_type": "stream",
     "name": "stdout",
     "text": [
      "The balance accuracy score for SMOTE is: 99.4828%\n"
     ]
    }
   ],
   "metadata": {}
  },
  {
   "cell_type": "code",
   "execution_count": 47,
   "source": [
    "# Display the confusion matrix\r\n",
    "cm_df_smote = Generate_Confusion_Matrix(y_test, y_pred_smote)\r\n",
    "Describe_Confusion_Matrix(cm_df_smote)"
   ],
   "outputs": [
    {
     "output_type": "display_data",
     "data": {
      "text/plain": [
       "                  Prediction high_risk  Prediction low_risk  Total Predictions\n",
       "Actual high_risk                   622                    3                625\n",
       "Actual low_risk                    104                18655              18759\n",
       "Total Actuals                      726                18658              19384"
      ],
      "text/html": [
       "<div>\n",
       "<style scoped>\n",
       "    .dataframe tbody tr th:only-of-type {\n",
       "        vertical-align: middle;\n",
       "    }\n",
       "\n",
       "    .dataframe tbody tr th {\n",
       "        vertical-align: top;\n",
       "    }\n",
       "\n",
       "    .dataframe thead th {\n",
       "        text-align: right;\n",
       "    }\n",
       "</style>\n",
       "<table border=\"1\" class=\"dataframe\">\n",
       "  <thead>\n",
       "    <tr style=\"text-align: right;\">\n",
       "      <th></th>\n",
       "      <th>Prediction high_risk</th>\n",
       "      <th>Prediction low_risk</th>\n",
       "      <th>Total Predictions</th>\n",
       "    </tr>\n",
       "  </thead>\n",
       "  <tbody>\n",
       "    <tr>\n",
       "      <th>Actual high_risk</th>\n",
       "      <td>622</td>\n",
       "      <td>3</td>\n",
       "      <td>625</td>\n",
       "    </tr>\n",
       "    <tr>\n",
       "      <th>Actual low_risk</th>\n",
       "      <td>104</td>\n",
       "      <td>18655</td>\n",
       "      <td>18759</td>\n",
       "    </tr>\n",
       "    <tr>\n",
       "      <th>Total Actuals</th>\n",
       "      <td>726</td>\n",
       "      <td>18658</td>\n",
       "      <td>19384</td>\n",
       "    </tr>\n",
       "  </tbody>\n",
       "</table>\n",
       "</div>"
      ]
     },
     "metadata": {}
    },
    {
     "output_type": "stream",
     "name": "stdout",
     "text": [
      "Overall, how often is the classifier correct (Accuracy): 99.448%\n",
      "Overall, how often is it wrong (Misclassification Rate or Error Rate): 0.552%\n",
      "When it's actually yes, how often does it predict yes? (True Positive Rate or Sensitivity or Recall): 99.446%\n",
      "When it's actually no, how often does it predict no (False Posive Rate): 99.520%\n",
      "When it predicts yes, how often is it correct? (Precision):99.446%\n",
      "When it's actually no, how often does it predict no? (False Positive Rate): 0.480%\n"
     ]
    }
   ],
   "metadata": {}
  },
  {
   "cell_type": "code",
   "execution_count": 71,
   "source": [
    "# Print the imbalanced classification report\r\n",
    "print(classification_report_imbalanced(y_test, y_pred_smote,digits=4))"
   ],
   "outputs": [
    {
     "output_type": "stream",
     "name": "stdout",
     "text": [
      "                   pre       rec       spe        f1       geo       iba       sup\n",
      "\n",
      "  high_risk     0.8567    0.9952    0.9945    0.9208    0.9948    0.9898       625\n",
      "   low_risk     0.9998    0.9945    0.9952    0.9971    0.9948    0.9896     18759\n",
      "\n",
      "avg / total     0.9952    0.9945    0.9952    0.9947    0.9948    0.9896     19384\n",
      "\n"
     ]
    }
   ],
   "metadata": {}
  },
  {
   "cell_type": "markdown",
   "source": [
    "# Undersampling\n",
    "\n",
    "In this section, you will test an undersampling algorithm to determine which algorithm results in the best performance compared to the oversampling algorithms above. You will undersample the data using the Cluster Centroids algorithm and complete the folliowing steps:\n",
    "\n",
    "1. View the count of the target classes using `Counter` from the collections library. \n",
    "3. Use the resampled data to train a logistic regression model.\n",
    "3. Calculate the balanced accuracy score from sklearn.metrics.\n",
    "4. Display the confusion matrix from sklearn.metrics.\n",
    "5. Generate a classication report using the `imbalanced_classification_report` from imbalanced-learn.\n",
    "\n",
    "Note: Use a random state of 1 for each sampling algorithm to ensure consistency between tests"
   ],
   "metadata": {}
  },
  {
   "cell_type": "code",
   "execution_count": 49,
   "source": [
    "# Resample the data using the ClusterCentroids resampler\r\n",
    "from imblearn.under_sampling import ClusterCentroids\r\n",
    "\r\n",
    "cc = ClusterCentroids(random_state=1)\r\n",
    "X_cc, y_cc = cc.fit_resample(X_train, y_train)\r\n",
    "\r\n",
    "# View the count of target classes with Counter\r\n",
    "Counter(y_cc)"
   ],
   "outputs": [
    {
     "output_type": "execute_result",
     "data": {
      "text/plain": [
       "Counter({'high_risk': 1875, 'low_risk': 1875})"
      ]
     },
     "metadata": {},
     "execution_count": 49
    }
   ],
   "metadata": {}
  },
  {
   "cell_type": "code",
   "execution_count": 53,
   "source": [
    "# Train the Logistic Regression model using the resampled data\r\n",
    "mdl_cc = LogisticRegression(solver='lbfgs', random_state=1)\r\n",
    "mdl_cc.fit(X_cc, y_cc)"
   ],
   "outputs": [
    {
     "output_type": "execute_result",
     "data": {
      "text/plain": [
       "LogisticRegression(random_state=1)"
      ]
     },
     "metadata": {},
     "execution_count": 53
    }
   ],
   "metadata": {}
  },
  {
   "cell_type": "code",
   "execution_count": 54,
   "source": [
    "# Calculate the balanced accuracy score\r\n",
    "y_pred_cc = mdl_cc.predict(X_test)\r\n",
    "print(f\"The balance accuracy score for Cluster Centroids is: {balanced_accuracy_score(y_test, y_pred_cc):.4%}\")"
   ],
   "outputs": [
    {
     "output_type": "stream",
     "name": "stdout",
     "text": [
      "The balance accuracy score for Cluster Centroids is: 98.3681%\n"
     ]
    }
   ],
   "metadata": {}
  },
  {
   "cell_type": "code",
   "execution_count": 55,
   "source": [
    "# Display the confusion matrix\r\n",
    "cm_df_cc = Generate_Confusion_Matrix(y_test, y_pred_cc)\r\n",
    "Describe_Confusion_Matrix(cm_df_cc)\r\n"
   ],
   "outputs": [
    {
     "output_type": "display_data",
     "data": {
      "text/plain": [
       "                  Prediction high_risk  Prediction low_risk  Total Predictions\n",
       "Actual high_risk                   608                   17                625\n",
       "Actual low_risk                    102                18657              18759\n",
       "Total Actuals                      710                18674              19384"
      ],
      "text/html": [
       "<div>\n",
       "<style scoped>\n",
       "    .dataframe tbody tr th:only-of-type {\n",
       "        vertical-align: middle;\n",
       "    }\n",
       "\n",
       "    .dataframe tbody tr th {\n",
       "        vertical-align: top;\n",
       "    }\n",
       "\n",
       "    .dataframe thead th {\n",
       "        text-align: right;\n",
       "    }\n",
       "</style>\n",
       "<table border=\"1\" class=\"dataframe\">\n",
       "  <thead>\n",
       "    <tr style=\"text-align: right;\">\n",
       "      <th></th>\n",
       "      <th>Prediction high_risk</th>\n",
       "      <th>Prediction low_risk</th>\n",
       "      <th>Total Predictions</th>\n",
       "    </tr>\n",
       "  </thead>\n",
       "  <tbody>\n",
       "    <tr>\n",
       "      <th>Actual high_risk</th>\n",
       "      <td>608</td>\n",
       "      <td>17</td>\n",
       "      <td>625</td>\n",
       "    </tr>\n",
       "    <tr>\n",
       "      <th>Actual low_risk</th>\n",
       "      <td>102</td>\n",
       "      <td>18657</td>\n",
       "      <td>18759</td>\n",
       "    </tr>\n",
       "    <tr>\n",
       "      <th>Total Actuals</th>\n",
       "      <td>710</td>\n",
       "      <td>18674</td>\n",
       "      <td>19384</td>\n",
       "    </tr>\n",
       "  </tbody>\n",
       "</table>\n",
       "</div>"
      ]
     },
     "metadata": {}
    },
    {
     "output_type": "stream",
     "name": "stdout",
     "text": [
      "Overall, how often is the classifier correct (Accuracy): 99.386%\n",
      "Overall, how often is it wrong (Misclassification Rate or Error Rate): 0.614%\n",
      "When it's actually yes, how often does it predict yes? (True Positive Rate or Sensitivity or Recall): 99.456%\n",
      "When it's actually no, how often does it predict no (False Posive Rate): 97.280%\n",
      "When it predicts yes, how often is it correct? (Precision):99.456%\n",
      "When it's actually no, how often does it predict no? (False Positive Rate): 2.720%\n"
     ]
    }
   ],
   "metadata": {}
  },
  {
   "cell_type": "code",
   "execution_count": 72,
   "source": [
    "# Print the imbalanced classification report\r\n",
    "print(classification_report_imbalanced(y_test, y_pred_cc,digits=4))"
   ],
   "outputs": [
    {
     "output_type": "stream",
     "name": "stdout",
     "text": [
      "                   pre       rec       spe        f1       geo       iba       sup\n",
      "\n",
      "  high_risk     0.8563    0.9728    0.9946    0.9109    0.9836    0.9654       625\n",
      "   low_risk     0.9991    0.9946    0.9728    0.9968    0.9836    0.9696     18759\n",
      "\n",
      "avg / total     0.9945    0.9939    0.9735    0.9940    0.9836    0.9695     19384\n",
      "\n"
     ]
    }
   ],
   "metadata": {}
  },
  {
   "cell_type": "markdown",
   "source": [
    "# Combination (Over and Under) Sampling\n",
    "\n",
    "In this section, you will test a combination over- and under-sampling algorithm to determine if the algorithm results in the best performance compared to the other sampling algorithms above. You will resample the data using the SMOTEENN algorithm and complete the folliowing steps:\n",
    "\n",
    "1. View the count of the target classes using `Counter` from the collections library. \n",
    "3. Use the resampled data to train a logistic regression model.\n",
    "3. Calculate the balanced accuracy score from sklearn.metrics.\n",
    "4. Display the confusion matrix from sklearn.metrics.\n",
    "5. Generate a classication report using the `imbalanced_classification_report` from imbalanced-learn.\n",
    "\n",
    "Note: Use a random state of 1 for each sampling algorithm to ensure consistency between tests"
   ],
   "metadata": {}
  },
  {
   "cell_type": "code",
   "execution_count": 59,
   "source": [
    "# Resample the training data with SMOTEENN\r\n",
    "from imblearn.combine import SMOTEENN\r\n",
    "smot_en = SMOTEENN(random_state=1)\r\n",
    "X_smot_en, y_smot_en = smot_en.fit_resample(X_train,y_train)\r\n",
    "# View the count of target classes with Counter\r\n",
    "Counter(y_smot_en)"
   ],
   "outputs": [
    {
     "output_type": "execute_result",
     "data": {
      "text/plain": [
       "Counter({'high_risk': 55509, 'low_risk': 55930})"
      ]
     },
     "metadata": {},
     "execution_count": 59
    }
   ],
   "metadata": {}
  },
  {
   "cell_type": "code",
   "execution_count": 64,
   "source": [
    "# Train the Logistic Regression model using the resampled data\r\n",
    "mdl_smot_en = LogisticRegression(solver='lbfgs', random_state=1)\r\n",
    "mdl_smot_en.fit(X_smot_en, y_smot_en)"
   ],
   "outputs": [
    {
     "output_type": "execute_result",
     "data": {
      "text/plain": [
       "LogisticRegression(random_state=1)"
      ]
     },
     "metadata": {},
     "execution_count": 64
    }
   ],
   "metadata": {}
  },
  {
   "cell_type": "code",
   "execution_count": 65,
   "source": [
    "# Calculate the balanced accuracy score\r\n",
    "y_pred_smot_enn = mdl_smot_en.predict(X_test)\r\n",
    "print(f\"The balanced accuracy score for the SMOTEENN is: {balanced_accuracy_score(y_test, y_pred_smot_enn):.4%}\")"
   ],
   "outputs": [
    {
     "output_type": "stream",
     "name": "stdout",
     "text": [
      "The balanced accuracy score for the SMOTEENN is: 99.4748%\n"
     ]
    }
   ],
   "metadata": {}
  },
  {
   "cell_type": "code",
   "execution_count": 66,
   "source": [
    "# Display the confusion matrix\r\n",
    "cm_df_smot_enn = Generate_Confusion_Matrix(y_test, y_pred_smot_enn)\r\n",
    "Describe_Confusion_Matrix(cm_df_smot_enn)"
   ],
   "outputs": [
    {
     "output_type": "display_data",
     "data": {
      "text/plain": [
       "                  Prediction high_risk  Prediction low_risk  Total Predictions\n",
       "Actual high_risk                   622                    3                625\n",
       "Actual low_risk                    107                18652              18759\n",
       "Total Actuals                      729                18655              19384"
      ],
      "text/html": [
       "<div>\n",
       "<style scoped>\n",
       "    .dataframe tbody tr th:only-of-type {\n",
       "        vertical-align: middle;\n",
       "    }\n",
       "\n",
       "    .dataframe tbody tr th {\n",
       "        vertical-align: top;\n",
       "    }\n",
       "\n",
       "    .dataframe thead th {\n",
       "        text-align: right;\n",
       "    }\n",
       "</style>\n",
       "<table border=\"1\" class=\"dataframe\">\n",
       "  <thead>\n",
       "    <tr style=\"text-align: right;\">\n",
       "      <th></th>\n",
       "      <th>Prediction high_risk</th>\n",
       "      <th>Prediction low_risk</th>\n",
       "      <th>Total Predictions</th>\n",
       "    </tr>\n",
       "  </thead>\n",
       "  <tbody>\n",
       "    <tr>\n",
       "      <th>Actual high_risk</th>\n",
       "      <td>622</td>\n",
       "      <td>3</td>\n",
       "      <td>625</td>\n",
       "    </tr>\n",
       "    <tr>\n",
       "      <th>Actual low_risk</th>\n",
       "      <td>107</td>\n",
       "      <td>18652</td>\n",
       "      <td>18759</td>\n",
       "    </tr>\n",
       "    <tr>\n",
       "      <th>Total Actuals</th>\n",
       "      <td>729</td>\n",
       "      <td>18655</td>\n",
       "      <td>19384</td>\n",
       "    </tr>\n",
       "  </tbody>\n",
       "</table>\n",
       "</div>"
      ]
     },
     "metadata": {}
    },
    {
     "output_type": "stream",
     "name": "stdout",
     "text": [
      "Overall, how often is the classifier correct (Accuracy): 99.433%\n",
      "Overall, how often is it wrong (Misclassification Rate or Error Rate): 0.567%\n",
      "When it's actually yes, how often does it predict yes? (True Positive Rate or Sensitivity or Recall): 99.430%\n",
      "When it's actually no, how often does it predict no (False Posive Rate): 99.520%\n",
      "When it predicts yes, how often is it correct? (Precision):99.430%\n",
      "When it's actually no, how often does it predict no? (False Positive Rate): 0.480%\n"
     ]
    }
   ],
   "metadata": {}
  },
  {
   "cell_type": "code",
   "execution_count": 73,
   "source": [
    "# Print the imbalanced classification report\r\n",
    "print(classification_report_imbalanced(y_test, y_pred_smot_enn,digits=4))"
   ],
   "outputs": [
    {
     "output_type": "stream",
     "name": "stdout",
     "text": [
      "                   pre       rec       spe        f1       geo       iba       sup\n",
      "\n",
      "  high_risk     0.8532    0.9952    0.9943    0.9188    0.9947    0.9896       625\n",
      "   low_risk     0.9998    0.9943    0.9952    0.9971    0.9947    0.9894     18759\n",
      "\n",
      "avg / total     0.9951    0.9943    0.9952    0.9945    0.9947    0.9894     19384\n",
      "\n"
     ]
    }
   ],
   "metadata": {}
  },
  {
   "cell_type": "markdown",
   "source": [
    "# Final Questions\r\n",
    "\r\n",
    "1. Which model had the best balanced accuracy score?\r\n",
    "\r\n",
    "   The SMOTE has the highest Balance Accuracy Score with 99.48%\r\n",
    "\r\n",
    "2. Which model had the best recall score?\r\n",
    "\r\n",
    "    Simple Logic Regression\r\n",
    "\r\n",
    "3. Which model had the best geometric mean score?\r\n",
    "\r\n",
    "    Combination Over and Under Sampling\r\n"
   ],
   "metadata": {}
  },
  {
   "cell_type": "code",
   "execution_count": null,
   "source": [],
   "outputs": [],
   "metadata": {}
  }
 ],
 "metadata": {
  "kernelspec": {
   "name": "python3",
   "display_name": "Python 3.9.5 64-bit"
  },
  "language_info": {
   "codemirror_mode": {
    "name": "ipython",
    "version": 3
   },
   "file_extension": ".py",
   "mimetype": "text/x-python",
   "name": "python",
   "nbconvert_exporter": "python",
   "pygments_lexer": "ipython3",
   "version": "3.9.5"
  },
  "interpreter": {
   "hash": "ac59ebe37160ed0dfa835113d9b8498d9f09ceb179beaac4002f036b9467c963"
  }
 },
 "nbformat": 4,
 "nbformat_minor": 4
}